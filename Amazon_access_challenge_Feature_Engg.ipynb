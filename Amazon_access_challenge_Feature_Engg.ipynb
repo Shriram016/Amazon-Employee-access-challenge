{
 "cells": [
  {
   "cell_type": "markdown",
   "metadata": {},
   "source": [
    "<h1>Amazon Employee Access Challenge </h1>"
   ]
  },
  {
   "cell_type": "code",
   "execution_count": null,
   "metadata": {},
   "outputs": [],
   "source": []
  },
  {
   "cell_type": "code",
   "execution_count": 1,
   "metadata": {},
   "outputs": [],
   "source": [
    "import warnings\n",
    "warnings.filterwarnings(\"ignore\")"
   ]
  },
  {
   "cell_type": "code",
   "execution_count": 2,
   "metadata": {},
   "outputs": [],
   "source": [
    "#importing needed modules/packages\n",
    "import pandas as pd\n",
    "import numpy as np\n",
    "import seaborn as sb\n",
    "import matplotlib.pyplot as plt\n",
    "%matplotlib inline"
   ]
  },
  {
   "cell_type": "code",
   "execution_count": 3,
   "metadata": {},
   "outputs": [
    {
     "data": {
      "text/plain": [
       "((32769, 10), (58921, 10))"
      ]
     },
     "execution_count": 3,
     "metadata": {},
     "output_type": "execute_result"
    }
   ],
   "source": [
    "#importing the data\n",
    "train=pd.read_csv('train.csv')\n",
    "test=pd.read_csv('test.csv')\n",
    "train.shape,test.shape"
   ]
  },
  {
   "cell_type": "markdown",
   "metadata": {},
   "source": [
    "**FEATURE ENGINEERING**"
   ]
  },
  {
   "cell_type": "markdown",
   "metadata": {},
   "source": [
    "**SVD Encoding**\n",
    "\n",
    "Here we are trying to encode categorical data using SVD.\n",
    "\n",
    "We will construct a matrix of co-occurences for each pair of categorical features. Each row corresponds to a value in feature A, while each column corresponds to a value in feature B. Each element is the count of rows where the value in A appears together with the value in B.\n",
    "\n",
    "Then apply Truncated SVD on the matrix"
   ]
  },
  {
   "cell_type": "code",
   "execution_count": 4,
   "metadata": {},
   "outputs": [],
   "source": [
    "#https://www.kaggle.com/dmitrylarko/kaggledays-sf-2-amazon-unsupervised-encoding#SVD-Encoding\n",
    "#https://www.kaggle.com/matleonard/encoding-categorical-features-with-svd"
   ]
  },
  {
   "cell_type": "code",
   "execution_count": 4,
   "metadata": {},
   "outputs": [
    {
     "data": {
      "text/plain": [
       "(32769, 9)"
      ]
     },
     "execution_count": 4,
     "metadata": {},
     "output_type": "execute_result"
    }
   ],
   "source": [
    "train_data=train.drop(columns=['ACTION'],axis=1)\n",
    "train_data.shape"
   ]
  },
  {
   "cell_type": "code",
   "execution_count": 5,
   "metadata": {},
   "outputs": [
    {
     "data": {
      "text/plain": [
       "RESOURCE            7518\n",
       "MGR_ID              4243\n",
       "ROLE_ROLLUP_1        128\n",
       "ROLE_ROLLUP_2        177\n",
       "ROLE_DEPTNAME        449\n",
       "ROLE_TITLE           343\n",
       "ROLE_FAMILY_DESC    2358\n",
       "ROLE_FAMILY           67\n",
       "ROLE_CODE            343\n",
       "dtype: int64"
      ]
     },
     "execution_count": 5,
     "metadata": {},
     "output_type": "execute_result"
    }
   ],
   "source": [
    "train_data.nunique()"
   ]
  },
  {
   "cell_type": "code",
   "execution_count": 6,
   "metadata": {},
   "outputs": [
    {
     "data": {
      "text/plain": [
       "(58921, 9)"
      ]
     },
     "execution_count": 6,
     "metadata": {},
     "output_type": "execute_result"
    }
   ],
   "source": [
    "test_data=test.drop(columns=['id'],axis=1)\n",
    "test_data.shape"
   ]
  },
  {
   "cell_type": "code",
   "execution_count": 7,
   "metadata": {},
   "outputs": [
    {
     "data": {
      "text/plain": [
       "RESOURCE            4971\n",
       "MGR_ID              4689\n",
       "ROLE_ROLLUP_1        126\n",
       "ROLE_ROLLUP_2        177\n",
       "ROLE_DEPTNAME        466\n",
       "ROLE_TITLE           351\n",
       "ROLE_FAMILY_DESC    2749\n",
       "ROLE_FAMILY           68\n",
       "ROLE_CODE            351\n",
       "dtype: int64"
      ]
     },
     "execution_count": 7,
     "metadata": {},
     "output_type": "execute_result"
    }
   ],
   "source": [
    "test_data.nunique()"
   ]
  },
  {
   "cell_type": "code",
   "execution_count": 8,
   "metadata": {},
   "outputs": [],
   "source": [
    "train_svd = pd.DataFrame()\n",
    "test_svd = pd.DataFrame()"
   ]
  },
  {
   "cell_type": "code",
   "execution_count": 12,
   "metadata": {},
   "outputs": [
    {
     "data": {
      "text/html": [
       "<div>\n",
       "<style scoped>\n",
       "    .dataframe tbody tr th:only-of-type {\n",
       "        vertical-align: middle;\n",
       "    }\n",
       "\n",
       "    .dataframe tbody tr th {\n",
       "        vertical-align: top;\n",
       "    }\n",
       "\n",
       "    .dataframe thead th {\n",
       "        text-align: right;\n",
       "    }\n",
       "</style>\n",
       "<table border=\"1\" class=\"dataframe\">\n",
       "  <thead>\n",
       "    <tr style=\"text-align: right;\">\n",
       "      <th>MGR_ID</th>\n",
       "      <th>25</th>\n",
       "      <th>27</th>\n",
       "      <th>30</th>\n",
       "      <th>32</th>\n",
       "      <th>33</th>\n",
       "      <th>36</th>\n",
       "      <th>43</th>\n",
       "      <th>46</th>\n",
       "      <th>47</th>\n",
       "      <th>55</th>\n",
       "      <th>...</th>\n",
       "      <th>311251</th>\n",
       "      <th>311338</th>\n",
       "      <th>311355</th>\n",
       "      <th>311433</th>\n",
       "      <th>311438</th>\n",
       "      <th>311597</th>\n",
       "      <th>311651</th>\n",
       "      <th>311682</th>\n",
       "      <th>311683</th>\n",
       "      <th>311696</th>\n",
       "    </tr>\n",
       "    <tr>\n",
       "      <th>RESOURCE</th>\n",
       "      <th></th>\n",
       "      <th></th>\n",
       "      <th></th>\n",
       "      <th></th>\n",
       "      <th></th>\n",
       "      <th></th>\n",
       "      <th></th>\n",
       "      <th></th>\n",
       "      <th></th>\n",
       "      <th></th>\n",
       "      <th></th>\n",
       "      <th></th>\n",
       "      <th></th>\n",
       "      <th></th>\n",
       "      <th></th>\n",
       "      <th></th>\n",
       "      <th></th>\n",
       "      <th></th>\n",
       "      <th></th>\n",
       "      <th></th>\n",
       "      <th></th>\n",
       "    </tr>\n",
       "  </thead>\n",
       "  <tbody>\n",
       "    <tr>\n",
       "      <th>0</th>\n",
       "      <td>0</td>\n",
       "      <td>0</td>\n",
       "      <td>0</td>\n",
       "      <td>0</td>\n",
       "      <td>1</td>\n",
       "      <td>1</td>\n",
       "      <td>0</td>\n",
       "      <td>0</td>\n",
       "      <td>0</td>\n",
       "      <td>0</td>\n",
       "      <td>...</td>\n",
       "      <td>0</td>\n",
       "      <td>0</td>\n",
       "      <td>0</td>\n",
       "      <td>0</td>\n",
       "      <td>0</td>\n",
       "      <td>0</td>\n",
       "      <td>0</td>\n",
       "      <td>0</td>\n",
       "      <td>0</td>\n",
       "      <td>0</td>\n",
       "    </tr>\n",
       "    <tr>\n",
       "      <th>38</th>\n",
       "      <td>0</td>\n",
       "      <td>0</td>\n",
       "      <td>0</td>\n",
       "      <td>0</td>\n",
       "      <td>0</td>\n",
       "      <td>0</td>\n",
       "      <td>0</td>\n",
       "      <td>0</td>\n",
       "      <td>1</td>\n",
       "      <td>0</td>\n",
       "      <td>...</td>\n",
       "      <td>0</td>\n",
       "      <td>0</td>\n",
       "      <td>0</td>\n",
       "      <td>0</td>\n",
       "      <td>0</td>\n",
       "      <td>0</td>\n",
       "      <td>0</td>\n",
       "      <td>0</td>\n",
       "      <td>0</td>\n",
       "      <td>0</td>\n",
       "    </tr>\n",
       "    <tr>\n",
       "      <th>136</th>\n",
       "      <td>0</td>\n",
       "      <td>0</td>\n",
       "      <td>0</td>\n",
       "      <td>0</td>\n",
       "      <td>0</td>\n",
       "      <td>0</td>\n",
       "      <td>0</td>\n",
       "      <td>0</td>\n",
       "      <td>0</td>\n",
       "      <td>0</td>\n",
       "      <td>...</td>\n",
       "      <td>0</td>\n",
       "      <td>0</td>\n",
       "      <td>0</td>\n",
       "      <td>0</td>\n",
       "      <td>0</td>\n",
       "      <td>0</td>\n",
       "      <td>0</td>\n",
       "      <td>0</td>\n",
       "      <td>0</td>\n",
       "      <td>0</td>\n",
       "    </tr>\n",
       "    <tr>\n",
       "      <th>138</th>\n",
       "      <td>0</td>\n",
       "      <td>0</td>\n",
       "      <td>0</td>\n",
       "      <td>0</td>\n",
       "      <td>0</td>\n",
       "      <td>0</td>\n",
       "      <td>0</td>\n",
       "      <td>0</td>\n",
       "      <td>0</td>\n",
       "      <td>0</td>\n",
       "      <td>...</td>\n",
       "      <td>0</td>\n",
       "      <td>0</td>\n",
       "      <td>0</td>\n",
       "      <td>0</td>\n",
       "      <td>0</td>\n",
       "      <td>0</td>\n",
       "      <td>0</td>\n",
       "      <td>0</td>\n",
       "      <td>0</td>\n",
       "      <td>0</td>\n",
       "    </tr>\n",
       "    <tr>\n",
       "      <th>153</th>\n",
       "      <td>0</td>\n",
       "      <td>0</td>\n",
       "      <td>0</td>\n",
       "      <td>0</td>\n",
       "      <td>0</td>\n",
       "      <td>0</td>\n",
       "      <td>0</td>\n",
       "      <td>0</td>\n",
       "      <td>0</td>\n",
       "      <td>0</td>\n",
       "      <td>...</td>\n",
       "      <td>0</td>\n",
       "      <td>0</td>\n",
       "      <td>0</td>\n",
       "      <td>0</td>\n",
       "      <td>0</td>\n",
       "      <td>0</td>\n",
       "      <td>0</td>\n",
       "      <td>0</td>\n",
       "      <td>0</td>\n",
       "      <td>0</td>\n",
       "    </tr>\n",
       "    <tr>\n",
       "      <th>...</th>\n",
       "      <td>...</td>\n",
       "      <td>...</td>\n",
       "      <td>...</td>\n",
       "      <td>...</td>\n",
       "      <td>...</td>\n",
       "      <td>...</td>\n",
       "      <td>...</td>\n",
       "      <td>...</td>\n",
       "      <td>...</td>\n",
       "      <td>...</td>\n",
       "      <td>...</td>\n",
       "      <td>...</td>\n",
       "      <td>...</td>\n",
       "      <td>...</td>\n",
       "      <td>...</td>\n",
       "      <td>...</td>\n",
       "      <td>...</td>\n",
       "      <td>...</td>\n",
       "      <td>...</td>\n",
       "      <td>...</td>\n",
       "      <td>...</td>\n",
       "    </tr>\n",
       "    <tr>\n",
       "      <th>312136</th>\n",
       "      <td>0</td>\n",
       "      <td>0</td>\n",
       "      <td>0</td>\n",
       "      <td>0</td>\n",
       "      <td>0</td>\n",
       "      <td>0</td>\n",
       "      <td>0</td>\n",
       "      <td>0</td>\n",
       "      <td>0</td>\n",
       "      <td>0</td>\n",
       "      <td>...</td>\n",
       "      <td>0</td>\n",
       "      <td>0</td>\n",
       "      <td>0</td>\n",
       "      <td>0</td>\n",
       "      <td>0</td>\n",
       "      <td>0</td>\n",
       "      <td>0</td>\n",
       "      <td>0</td>\n",
       "      <td>0</td>\n",
       "      <td>0</td>\n",
       "    </tr>\n",
       "    <tr>\n",
       "      <th>312139</th>\n",
       "      <td>0</td>\n",
       "      <td>0</td>\n",
       "      <td>0</td>\n",
       "      <td>0</td>\n",
       "      <td>0</td>\n",
       "      <td>0</td>\n",
       "      <td>0</td>\n",
       "      <td>0</td>\n",
       "      <td>0</td>\n",
       "      <td>0</td>\n",
       "      <td>...</td>\n",
       "      <td>0</td>\n",
       "      <td>0</td>\n",
       "      <td>0</td>\n",
       "      <td>0</td>\n",
       "      <td>0</td>\n",
       "      <td>0</td>\n",
       "      <td>0</td>\n",
       "      <td>0</td>\n",
       "      <td>0</td>\n",
       "      <td>0</td>\n",
       "    </tr>\n",
       "    <tr>\n",
       "      <th>312140</th>\n",
       "      <td>0</td>\n",
       "      <td>0</td>\n",
       "      <td>0</td>\n",
       "      <td>0</td>\n",
       "      <td>0</td>\n",
       "      <td>0</td>\n",
       "      <td>0</td>\n",
       "      <td>0</td>\n",
       "      <td>0</td>\n",
       "      <td>0</td>\n",
       "      <td>...</td>\n",
       "      <td>0</td>\n",
       "      <td>0</td>\n",
       "      <td>0</td>\n",
       "      <td>0</td>\n",
       "      <td>0</td>\n",
       "      <td>0</td>\n",
       "      <td>0</td>\n",
       "      <td>0</td>\n",
       "      <td>0</td>\n",
       "      <td>0</td>\n",
       "    </tr>\n",
       "    <tr>\n",
       "      <th>312152</th>\n",
       "      <td>0</td>\n",
       "      <td>0</td>\n",
       "      <td>0</td>\n",
       "      <td>0</td>\n",
       "      <td>0</td>\n",
       "      <td>0</td>\n",
       "      <td>0</td>\n",
       "      <td>0</td>\n",
       "      <td>0</td>\n",
       "      <td>0</td>\n",
       "      <td>...</td>\n",
       "      <td>0</td>\n",
       "      <td>0</td>\n",
       "      <td>0</td>\n",
       "      <td>0</td>\n",
       "      <td>0</td>\n",
       "      <td>0</td>\n",
       "      <td>0</td>\n",
       "      <td>0</td>\n",
       "      <td>0</td>\n",
       "      <td>0</td>\n",
       "    </tr>\n",
       "    <tr>\n",
       "      <th>312153</th>\n",
       "      <td>0</td>\n",
       "      <td>0</td>\n",
       "      <td>0</td>\n",
       "      <td>0</td>\n",
       "      <td>0</td>\n",
       "      <td>0</td>\n",
       "      <td>0</td>\n",
       "      <td>0</td>\n",
       "      <td>0</td>\n",
       "      <td>0</td>\n",
       "      <td>...</td>\n",
       "      <td>0</td>\n",
       "      <td>0</td>\n",
       "      <td>0</td>\n",
       "      <td>0</td>\n",
       "      <td>0</td>\n",
       "      <td>0</td>\n",
       "      <td>0</td>\n",
       "      <td>0</td>\n",
       "      <td>0</td>\n",
       "      <td>0</td>\n",
       "    </tr>\n",
       "  </tbody>\n",
       "</table>\n",
       "<p>7518 rows × 4243 columns</p>\n",
       "</div>"
      ],
      "text/plain": [
       "MGR_ID    25      27      30      32      33      36      43      46      \\\n",
       "RESOURCE                                                                   \n",
       "0              0       0       0       0       1       1       0       0   \n",
       "38             0       0       0       0       0       0       0       0   \n",
       "136            0       0       0       0       0       0       0       0   \n",
       "138            0       0       0       0       0       0       0       0   \n",
       "153            0       0       0       0       0       0       0       0   \n",
       "...          ...     ...     ...     ...     ...     ...     ...     ...   \n",
       "312136         0       0       0       0       0       0       0       0   \n",
       "312139         0       0       0       0       0       0       0       0   \n",
       "312140         0       0       0       0       0       0       0       0   \n",
       "312152         0       0       0       0       0       0       0       0   \n",
       "312153         0       0       0       0       0       0       0       0   \n",
       "\n",
       "MGR_ID    47      55      ...  311251  311338  311355  311433  311438  311597  \\\n",
       "RESOURCE                  ...                                                   \n",
       "0              0       0  ...       0       0       0       0       0       0   \n",
       "38             1       0  ...       0       0       0       0       0       0   \n",
       "136            0       0  ...       0       0       0       0       0       0   \n",
       "138            0       0  ...       0       0       0       0       0       0   \n",
       "153            0       0  ...       0       0       0       0       0       0   \n",
       "...          ...     ...  ...     ...     ...     ...     ...     ...     ...   \n",
       "312136         0       0  ...       0       0       0       0       0       0   \n",
       "312139         0       0  ...       0       0       0       0       0       0   \n",
       "312140         0       0  ...       0       0       0       0       0       0   \n",
       "312152         0       0  ...       0       0       0       0       0       0   \n",
       "312153         0       0  ...       0       0       0       0       0       0   \n",
       "\n",
       "MGR_ID    311651  311682  311683  311696  \n",
       "RESOURCE                                  \n",
       "0              0       0       0       0  \n",
       "38             0       0       0       0  \n",
       "136            0       0       0       0  \n",
       "138            0       0       0       0  \n",
       "153            0       0       0       0  \n",
       "...          ...     ...     ...     ...  \n",
       "312136         0       0       0       0  \n",
       "312139         0       0       0       0  \n",
       "312140         0       0       0       0  \n",
       "312152         0       0       0       0  \n",
       "312153         0       0       0       0  \n",
       "\n",
       "[7518 rows x 4243 columns]"
      ]
     },
     "execution_count": 12,
     "metadata": {},
     "output_type": "execute_result"
    }
   ],
   "source": [
    "a1 = train_data.groupby(['RESOURCE','MGR_ID'])['MGR_ID'].count()\n",
    "a1=a1.unstack(fill_value=0)\n",
    "a1"
   ]
  },
  {
   "cell_type": "code",
   "execution_count": 10,
   "metadata": {},
   "outputs": [],
   "source": [
    "\n",
    "#train_data.pivot_table(index='RESOURCE',columns='MGR_ID',aggfunc='count')"
   ]
  },
  {
   "cell_type": "code",
   "execution_count": null,
   "metadata": {},
   "outputs": [],
   "source": []
  },
  {
   "cell_type": "code",
   "execution_count": 11,
   "metadata": {},
   "outputs": [
    {
     "name": "stderr",
     "output_type": "stream",
     "text": [
      "72it [00:18,  3.94it/s]\n"
     ]
    }
   ],
   "source": [
    "from itertools import permutations\n",
    "from sklearn.decomposition import TruncatedSVD\n",
    "from sklearn.feature_extraction.text import TfidfVectorizer\n",
    "from tqdm import tqdm\n",
    "\n",
    "for col1,col2 in tqdm(permutations(train_data.columns,2)):\n",
    "    res_train=(train_data.groupby([col1,col2])[col2].count()) \n",
    "    res_train=res_train.unstack(fill_value=0)\n",
    "\n",
    "    svd=TruncatedSVD(n_components=1,random_state=42,).fit(res_train)\n",
    "    val_train=svd.transform(res_train)\n",
    "    \n",
    "    \n",
    "    val_train = pd.DataFrame(val_train)\n",
    "    val_train = val_train.set_index(res_train.index)\n",
    "    train_svd[col1+'_'+col2]=train[col1].map(val_train.iloc[:,0])\n",
    "    \n",
    "    \n",
    "    \n",
    "    test_svd[col1+'_'+col2]=test[col1].map(val_train.iloc[:,0])"
   ]
  },
  {
   "cell_type": "code",
   "execution_count": 12,
   "metadata": {},
   "outputs": [
    {
     "data": {
      "text/plain": [
       "((32769, 72), (58921, 72))"
      ]
     },
     "execution_count": 12,
     "metadata": {},
     "output_type": "execute_result"
    }
   ],
   "source": [
    "train_svd.shape,test_svd.shape"
   ]
  },
  {
   "cell_type": "code",
   "execution_count": 13,
   "metadata": {
    "scrolled": true
   },
   "outputs": [
    {
     "name": "stdout",
     "output_type": "stream",
     "text": [
      "[0 0 0 0 0 0 0 0 0 0 0 0 0 0 0 0 0 0 0 0 0 0 0 0 0 0 0 0 0 0 0 0 0 0 0 0 0\n",
      " 0 0 0 0 0 0 0 0 0 0 0 0 0 0 0 0 0 0 0 0 0 0 0 0 0 0 0 0 0 0 0 0 0 0 0]\n",
      "[0 0 0 0 0 0 0 0 0 0 0 0 0 0 0 0 0 0 0 0 0 0 0 0 0 0 0 0 0 0 0 0 0 0 0 0 0\n",
      " 0 0 0 0 0 0 0 0 0 0 0 0 0 0 0 0 0 0 0 0 0 0 0 0 0 0 0 0 0 0 0 0 0 0 0]\n"
     ]
    }
   ],
   "source": [
    "train_svd.fillna(0,inplace=True)\n",
    "test_svd.fillna(0,inplace=True)\n",
    "print(train_svd.isna().sum().values)\n",
    "print(test_svd.isna().sum().values)"
   ]
  },
  {
   "cell_type": "code",
   "execution_count": 14,
   "metadata": {},
   "outputs": [
    {
     "data": {
      "text/html": [
       "<div>\n",
       "<style scoped>\n",
       "    .dataframe tbody tr th:only-of-type {\n",
       "        vertical-align: middle;\n",
       "    }\n",
       "\n",
       "    .dataframe tbody tr th {\n",
       "        vertical-align: top;\n",
       "    }\n",
       "\n",
       "    .dataframe thead th {\n",
       "        text-align: right;\n",
       "    }\n",
       "</style>\n",
       "<table border=\"1\" class=\"dataframe\">\n",
       "  <thead>\n",
       "    <tr style=\"text-align: right;\">\n",
       "      <th></th>\n",
       "      <th>RESOURCE_MGR_ID</th>\n",
       "      <th>RESOURCE_ROLE_ROLLUP_1</th>\n",
       "      <th>RESOURCE_ROLE_ROLLUP_2</th>\n",
       "      <th>RESOURCE_ROLE_DEPTNAME</th>\n",
       "      <th>RESOURCE_ROLE_TITLE</th>\n",
       "      <th>RESOURCE_ROLE_FAMILY_DESC</th>\n",
       "      <th>RESOURCE_ROLE_FAMILY</th>\n",
       "      <th>RESOURCE_ROLE_CODE</th>\n",
       "      <th>MGR_ID_RESOURCE</th>\n",
       "      <th>MGR_ID_ROLE_ROLLUP_1</th>\n",
       "      <th>...</th>\n",
       "      <th>ROLE_FAMILY_ROLE_FAMILY_DESC</th>\n",
       "      <th>ROLE_FAMILY_ROLE_CODE</th>\n",
       "      <th>ROLE_CODE_RESOURCE</th>\n",
       "      <th>ROLE_CODE_MGR_ID</th>\n",
       "      <th>ROLE_CODE_ROLE_ROLLUP_1</th>\n",
       "      <th>ROLE_CODE_ROLE_ROLLUP_2</th>\n",
       "      <th>ROLE_CODE_ROLE_DEPTNAME</th>\n",
       "      <th>ROLE_CODE_ROLE_TITLE</th>\n",
       "      <th>ROLE_CODE_ROLE_FAMILY_DESC</th>\n",
       "      <th>ROLE_CODE_ROLE_FAMILY</th>\n",
       "    </tr>\n",
       "  </thead>\n",
       "  <tbody>\n",
       "    <tr>\n",
       "      <th>0</th>\n",
       "      <td>0.088724</td>\n",
       "      <td>2.995769</td>\n",
       "      <td>1.810303</td>\n",
       "      <td>0.070125</td>\n",
       "      <td>1.593630</td>\n",
       "      <td>2.919560</td>\n",
       "      <td>2.934431</td>\n",
       "      <td>1.593630</td>\n",
       "      <td>1.416749</td>\n",
       "      <td>5.499993e+01</td>\n",
       "      <td>...</td>\n",
       "      <td>6975.313331</td>\n",
       "      <td>6.146289e+03</td>\n",
       "      <td>288.345856</td>\n",
       "      <td>164.386849</td>\n",
       "      <td>2930.072697</td>\n",
       "      <td>1055.973092</td>\n",
       "      <td>1.816763</td>\n",
       "      <td>-1.046582e-13</td>\n",
       "      <td>2.671720e+03</td>\n",
       "      <td>3.583000e+03</td>\n",
       "    </tr>\n",
       "    <tr>\n",
       "      <th>1</th>\n",
       "      <td>0.559935</td>\n",
       "      <td>25.998514</td>\n",
       "      <td>13.247680</td>\n",
       "      <td>1.084496</td>\n",
       "      <td>4.285689</td>\n",
       "      <td>4.534700</td>\n",
       "      <td>8.583779</td>\n",
       "      <td>4.285689</td>\n",
       "      <td>0.560297</td>\n",
       "      <td>9.999987e+00</td>\n",
       "      <td>...</td>\n",
       "      <td>0.101858</td>\n",
       "      <td>1.595079e-16</td>\n",
       "      <td>5.964018</td>\n",
       "      <td>0.288915</td>\n",
       "      <td>80.895295</td>\n",
       "      <td>25.034824</td>\n",
       "      <td>0.024511</td>\n",
       "      <td>-5.095232e-21</td>\n",
       "      <td>7.123211e-04</td>\n",
       "      <td>2.102008e-18</td>\n",
       "    </tr>\n",
       "    <tr>\n",
       "      <th>2</th>\n",
       "      <td>0.000108</td>\n",
       "      <td>0.007828</td>\n",
       "      <td>0.022128</td>\n",
       "      <td>0.509533</td>\n",
       "      <td>0.049782</td>\n",
       "      <td>0.007275</td>\n",
       "      <td>0.058700</td>\n",
       "      <td>0.049782</td>\n",
       "      <td>0.000724</td>\n",
       "      <td>5.493129e-10</td>\n",
       "      <td>...</td>\n",
       "      <td>0.024495</td>\n",
       "      <td>3.365502e-12</td>\n",
       "      <td>10.862651</td>\n",
       "      <td>0.000037</td>\n",
       "      <td>0.255356</td>\n",
       "      <td>0.160767</td>\n",
       "      <td>617.679185</td>\n",
       "      <td>-5.966059e-14</td>\n",
       "      <td>5.953084e-04</td>\n",
       "      <td>1.010481e-11</td>\n",
       "    </tr>\n",
       "    <tr>\n",
       "      <th>3</th>\n",
       "      <td>0.044904</td>\n",
       "      <td>0.998590</td>\n",
       "      <td>0.597128</td>\n",
       "      <td>0.018862</td>\n",
       "      <td>0.669129</td>\n",
       "      <td>0.164492</td>\n",
       "      <td>0.978144</td>\n",
       "      <td>0.669129</td>\n",
       "      <td>2.151085</td>\n",
       "      <td>6.199992e+01</td>\n",
       "      <td>...</td>\n",
       "      <td>6975.313331</td>\n",
       "      <td>6.146289e+03</td>\n",
       "      <td>292.012416</td>\n",
       "      <td>244.185412</td>\n",
       "      <td>4102.019163</td>\n",
       "      <td>1488.847285</td>\n",
       "      <td>2.455416</td>\n",
       "      <td>4.649000e+03</td>\n",
       "      <td>3.538719e+03</td>\n",
       "      <td>4.649000e+03</td>\n",
       "    </tr>\n",
       "    <tr>\n",
       "      <th>4</th>\n",
       "      <td>0.059410</td>\n",
       "      <td>2.022416</td>\n",
       "      <td>0.320066</td>\n",
       "      <td>0.804351</td>\n",
       "      <td>0.689633</td>\n",
       "      <td>0.175200</td>\n",
       "      <td>2.033620</td>\n",
       "      <td>0.689633</td>\n",
       "      <td>0.013122</td>\n",
       "      <td>1.490441e-04</td>\n",
       "      <td>...</td>\n",
       "      <td>0.000022</td>\n",
       "      <td>-7.200890e-18</td>\n",
       "      <td>0.267473</td>\n",
       "      <td>0.000104</td>\n",
       "      <td>0.010027</td>\n",
       "      <td>0.005174</td>\n",
       "      <td>8.969635</td>\n",
       "      <td>-9.548727e-22</td>\n",
       "      <td>1.778875e-10</td>\n",
       "      <td>-8.786881e-20</td>\n",
       "    </tr>\n",
       "  </tbody>\n",
       "</table>\n",
       "<p>5 rows × 72 columns</p>\n",
       "</div>"
      ],
      "text/plain": [
       "   RESOURCE_MGR_ID  RESOURCE_ROLE_ROLLUP_1  RESOURCE_ROLE_ROLLUP_2  \\\n",
       "0         0.088724                2.995769                1.810303   \n",
       "1         0.559935               25.998514               13.247680   \n",
       "2         0.000108                0.007828                0.022128   \n",
       "3         0.044904                0.998590                0.597128   \n",
       "4         0.059410                2.022416                0.320066   \n",
       "\n",
       "   RESOURCE_ROLE_DEPTNAME  RESOURCE_ROLE_TITLE  RESOURCE_ROLE_FAMILY_DESC  \\\n",
       "0                0.070125             1.593630                   2.919560   \n",
       "1                1.084496             4.285689                   4.534700   \n",
       "2                0.509533             0.049782                   0.007275   \n",
       "3                0.018862             0.669129                   0.164492   \n",
       "4                0.804351             0.689633                   0.175200   \n",
       "\n",
       "   RESOURCE_ROLE_FAMILY  RESOURCE_ROLE_CODE  MGR_ID_RESOURCE  \\\n",
       "0              2.934431            1.593630         1.416749   \n",
       "1              8.583779            4.285689         0.560297   \n",
       "2              0.058700            0.049782         0.000724   \n",
       "3              0.978144            0.669129         2.151085   \n",
       "4              2.033620            0.689633         0.013122   \n",
       "\n",
       "   MGR_ID_ROLE_ROLLUP_1  ...  ROLE_FAMILY_ROLE_FAMILY_DESC  \\\n",
       "0          5.499993e+01  ...                   6975.313331   \n",
       "1          9.999987e+00  ...                      0.101858   \n",
       "2          5.493129e-10  ...                      0.024495   \n",
       "3          6.199992e+01  ...                   6975.313331   \n",
       "4          1.490441e-04  ...                      0.000022   \n",
       "\n",
       "   ROLE_FAMILY_ROLE_CODE  ROLE_CODE_RESOURCE  ROLE_CODE_MGR_ID  \\\n",
       "0           6.146289e+03          288.345856        164.386849   \n",
       "1           1.595079e-16            5.964018          0.288915   \n",
       "2           3.365502e-12           10.862651          0.000037   \n",
       "3           6.146289e+03          292.012416        244.185412   \n",
       "4          -7.200890e-18            0.267473          0.000104   \n",
       "\n",
       "   ROLE_CODE_ROLE_ROLLUP_1  ROLE_CODE_ROLE_ROLLUP_2  ROLE_CODE_ROLE_DEPTNAME  \\\n",
       "0              2930.072697              1055.973092                 1.816763   \n",
       "1                80.895295                25.034824                 0.024511   \n",
       "2                 0.255356                 0.160767               617.679185   \n",
       "3              4102.019163              1488.847285                 2.455416   \n",
       "4                 0.010027                 0.005174                 8.969635   \n",
       "\n",
       "   ROLE_CODE_ROLE_TITLE  ROLE_CODE_ROLE_FAMILY_DESC  ROLE_CODE_ROLE_FAMILY  \n",
       "0         -1.046582e-13                2.671720e+03           3.583000e+03  \n",
       "1         -5.095232e-21                7.123211e-04           2.102008e-18  \n",
       "2         -5.966059e-14                5.953084e-04           1.010481e-11  \n",
       "3          4.649000e+03                3.538719e+03           4.649000e+03  \n",
       "4         -9.548727e-22                1.778875e-10          -8.786881e-20  \n",
       "\n",
       "[5 rows x 72 columns]"
      ]
     },
     "execution_count": 14,
     "metadata": {},
     "output_type": "execute_result"
    }
   ],
   "source": [
    "train_svd.head()"
   ]
  },
  {
   "cell_type": "code",
   "execution_count": null,
   "metadata": {},
   "outputs": [],
   "source": []
  },
  {
   "cell_type": "markdown",
   "metadata": {},
   "source": [
    "Normalizing the data"
   ]
  },
  {
   "cell_type": "code",
   "execution_count": 16,
   "metadata": {
    "scrolled": false
   },
   "outputs": [
    {
     "data": {
      "text/plain": [
       "((32769, 72), (58921, 72))"
      ]
     },
     "execution_count": 16,
     "metadata": {},
     "output_type": "execute_result"
    }
   ],
   "source": [
    "from sklearn.preprocessing import Normalizer\n",
    "columns = (train_svd.columns)\n",
    "x_vals1=train_svd[columns]\n",
    "x_vals2=test_svd[columns]\n",
    "n=Normalizer()\n",
    "n.fit(x_vals1)\n",
    "x_vals1 = n.transform(x_vals1)\n",
    "train_svd = pd.DataFrame(x_vals1,columns=columns)\n",
    "x_vals2 = n.transform(x_vals2)\n",
    "test_svd = pd.DataFrame(x_vals2,columns=columns)\n",
    "train_svd.shape,test_svd.shape"
   ]
  },
  {
   "cell_type": "code",
   "execution_count": 17,
   "metadata": {},
   "outputs": [
    {
     "data": {
      "text/html": [
       "<div>\n",
       "<style scoped>\n",
       "    .dataframe tbody tr th:only-of-type {\n",
       "        vertical-align: middle;\n",
       "    }\n",
       "\n",
       "    .dataframe tbody tr th {\n",
       "        vertical-align: top;\n",
       "    }\n",
       "\n",
       "    .dataframe thead th {\n",
       "        text-align: right;\n",
       "    }\n",
       "</style>\n",
       "<table border=\"1\" class=\"dataframe\">\n",
       "  <thead>\n",
       "    <tr style=\"text-align: right;\">\n",
       "      <th></th>\n",
       "      <th>RESOURCE_MGR_ID</th>\n",
       "      <th>RESOURCE_ROLE_ROLLUP_1</th>\n",
       "      <th>RESOURCE_ROLE_ROLLUP_2</th>\n",
       "      <th>RESOURCE_ROLE_DEPTNAME</th>\n",
       "      <th>RESOURCE_ROLE_TITLE</th>\n",
       "      <th>RESOURCE_ROLE_FAMILY_DESC</th>\n",
       "      <th>RESOURCE_ROLE_FAMILY</th>\n",
       "      <th>RESOURCE_ROLE_CODE</th>\n",
       "      <th>MGR_ID_RESOURCE</th>\n",
       "      <th>MGR_ID_ROLE_ROLLUP_1</th>\n",
       "      <th>...</th>\n",
       "      <th>ROLE_FAMILY_ROLE_FAMILY_DESC</th>\n",
       "      <th>ROLE_FAMILY_ROLE_CODE</th>\n",
       "      <th>ROLE_CODE_RESOURCE</th>\n",
       "      <th>ROLE_CODE_MGR_ID</th>\n",
       "      <th>ROLE_CODE_ROLE_ROLLUP_1</th>\n",
       "      <th>ROLE_CODE_ROLE_ROLLUP_2</th>\n",
       "      <th>ROLE_CODE_ROLE_DEPTNAME</th>\n",
       "      <th>ROLE_CODE_ROLE_TITLE</th>\n",
       "      <th>ROLE_CODE_ROLE_FAMILY_DESC</th>\n",
       "      <th>ROLE_CODE_ROLE_FAMILY</th>\n",
       "    </tr>\n",
       "  </thead>\n",
       "  <tbody>\n",
       "    <tr>\n",
       "      <th>0</th>\n",
       "      <td>3.338246e-06</td>\n",
       "      <td>0.000113</td>\n",
       "      <td>0.000068</td>\n",
       "      <td>2.638468e-06</td>\n",
       "      <td>0.000060</td>\n",
       "      <td>0.000110</td>\n",
       "      <td>0.000110</td>\n",
       "      <td>0.000060</td>\n",
       "      <td>5.330531e-05</td>\n",
       "      <td>2.069377e-03</td>\n",
       "      <td>...</td>\n",
       "      <td>2.624468e-01</td>\n",
       "      <td>2.312547e-01</td>\n",
       "      <td>0.010849</td>\n",
       "      <td>6.185070e-03</td>\n",
       "      <td>0.110244</td>\n",
       "      <td>0.039731</td>\n",
       "      <td>0.000068</td>\n",
       "      <td>-3.937775e-18</td>\n",
       "      <td>1.005237e-01</td>\n",
       "      <td>1.348107e-01</td>\n",
       "    </tr>\n",
       "    <tr>\n",
       "      <th>1</th>\n",
       "      <td>3.290961e-05</td>\n",
       "      <td>0.001528</td>\n",
       "      <td>0.000779</td>\n",
       "      <td>6.374011e-05</td>\n",
       "      <td>0.000252</td>\n",
       "      <td>0.000267</td>\n",
       "      <td>0.000505</td>\n",
       "      <td>0.000252</td>\n",
       "      <td>3.293088e-05</td>\n",
       "      <td>5.877389e-04</td>\n",
       "      <td>...</td>\n",
       "      <td>5.986619e-06</td>\n",
       "      <td>9.374913e-21</td>\n",
       "      <td>0.000351</td>\n",
       "      <td>1.698070e-05</td>\n",
       "      <td>0.004755</td>\n",
       "      <td>0.001471</td>\n",
       "      <td>0.000001</td>\n",
       "      <td>-2.994670e-25</td>\n",
       "      <td>4.186593e-08</td>\n",
       "      <td>1.235433e-22</td>\n",
       "    </tr>\n",
       "    <tr>\n",
       "      <th>2</th>\n",
       "      <td>1.122108e-07</td>\n",
       "      <td>0.000008</td>\n",
       "      <td>0.000023</td>\n",
       "      <td>5.280569e-04</td>\n",
       "      <td>0.000052</td>\n",
       "      <td>0.000008</td>\n",
       "      <td>0.000061</td>\n",
       "      <td>0.000052</td>\n",
       "      <td>7.499907e-07</td>\n",
       "      <td>5.692832e-13</td>\n",
       "      <td>...</td>\n",
       "      <td>2.538523e-05</td>\n",
       "      <td>3.487855e-15</td>\n",
       "      <td>0.011258</td>\n",
       "      <td>3.821987e-08</td>\n",
       "      <td>0.000265</td>\n",
       "      <td>0.000167</td>\n",
       "      <td>0.640135</td>\n",
       "      <td>-6.182955e-17</td>\n",
       "      <td>6.169509e-07</td>\n",
       "      <td>1.047218e-14</td>\n",
       "    </tr>\n",
       "    <tr>\n",
       "      <th>3</th>\n",
       "      <td>1.733916e-06</td>\n",
       "      <td>0.000039</td>\n",
       "      <td>0.000023</td>\n",
       "      <td>7.283213e-07</td>\n",
       "      <td>0.000026</td>\n",
       "      <td>0.000006</td>\n",
       "      <td>0.000038</td>\n",
       "      <td>0.000026</td>\n",
       "      <td>8.306181e-05</td>\n",
       "      <td>2.394060e-03</td>\n",
       "      <td>...</td>\n",
       "      <td>2.693442e-01</td>\n",
       "      <td>2.373323e-01</td>\n",
       "      <td>0.011276</td>\n",
       "      <td>9.428956e-03</td>\n",
       "      <td>0.158395</td>\n",
       "      <td>0.057490</td>\n",
       "      <td>0.000095</td>\n",
       "      <td>1.795161e-01</td>\n",
       "      <td>1.366438e-01</td>\n",
       "      <td>1.795161e-01</td>\n",
       "    </tr>\n",
       "    <tr>\n",
       "      <th>4</th>\n",
       "      <td>4.072207e-04</td>\n",
       "      <td>0.013863</td>\n",
       "      <td>0.002194</td>\n",
       "      <td>5.513384e-03</td>\n",
       "      <td>0.004727</td>\n",
       "      <td>0.001201</td>\n",
       "      <td>0.013939</td>\n",
       "      <td>0.004727</td>\n",
       "      <td>8.994073e-05</td>\n",
       "      <td>1.021616e-06</td>\n",
       "      <td>...</td>\n",
       "      <td>1.516644e-07</td>\n",
       "      <td>-4.935814e-20</td>\n",
       "      <td>0.001833</td>\n",
       "      <td>7.149129e-07</td>\n",
       "      <td>0.000069</td>\n",
       "      <td>0.000035</td>\n",
       "      <td>0.061482</td>\n",
       "      <td>-6.545127e-24</td>\n",
       "      <td>1.219321e-12</td>\n",
       "      <td>-6.022924e-22</td>\n",
       "    </tr>\n",
       "  </tbody>\n",
       "</table>\n",
       "<p>5 rows × 72 columns</p>\n",
       "</div>"
      ],
      "text/plain": [
       "   RESOURCE_MGR_ID  RESOURCE_ROLE_ROLLUP_1  RESOURCE_ROLE_ROLLUP_2  \\\n",
       "0     3.338246e-06                0.000113                0.000068   \n",
       "1     3.290961e-05                0.001528                0.000779   \n",
       "2     1.122108e-07                0.000008                0.000023   \n",
       "3     1.733916e-06                0.000039                0.000023   \n",
       "4     4.072207e-04                0.013863                0.002194   \n",
       "\n",
       "   RESOURCE_ROLE_DEPTNAME  RESOURCE_ROLE_TITLE  RESOURCE_ROLE_FAMILY_DESC  \\\n",
       "0            2.638468e-06             0.000060                   0.000110   \n",
       "1            6.374011e-05             0.000252                   0.000267   \n",
       "2            5.280569e-04             0.000052                   0.000008   \n",
       "3            7.283213e-07             0.000026                   0.000006   \n",
       "4            5.513384e-03             0.004727                   0.001201   \n",
       "\n",
       "   RESOURCE_ROLE_FAMILY  RESOURCE_ROLE_CODE  MGR_ID_RESOURCE  \\\n",
       "0              0.000110            0.000060     5.330531e-05   \n",
       "1              0.000505            0.000252     3.293088e-05   \n",
       "2              0.000061            0.000052     7.499907e-07   \n",
       "3              0.000038            0.000026     8.306181e-05   \n",
       "4              0.013939            0.004727     8.994073e-05   \n",
       "\n",
       "   MGR_ID_ROLE_ROLLUP_1  ...  ROLE_FAMILY_ROLE_FAMILY_DESC  \\\n",
       "0          2.069377e-03  ...                  2.624468e-01   \n",
       "1          5.877389e-04  ...                  5.986619e-06   \n",
       "2          5.692832e-13  ...                  2.538523e-05   \n",
       "3          2.394060e-03  ...                  2.693442e-01   \n",
       "4          1.021616e-06  ...                  1.516644e-07   \n",
       "\n",
       "   ROLE_FAMILY_ROLE_CODE  ROLE_CODE_RESOURCE  ROLE_CODE_MGR_ID  \\\n",
       "0           2.312547e-01            0.010849      6.185070e-03   \n",
       "1           9.374913e-21            0.000351      1.698070e-05   \n",
       "2           3.487855e-15            0.011258      3.821987e-08   \n",
       "3           2.373323e-01            0.011276      9.428956e-03   \n",
       "4          -4.935814e-20            0.001833      7.149129e-07   \n",
       "\n",
       "   ROLE_CODE_ROLE_ROLLUP_1  ROLE_CODE_ROLE_ROLLUP_2  ROLE_CODE_ROLE_DEPTNAME  \\\n",
       "0                 0.110244                 0.039731                 0.000068   \n",
       "1                 0.004755                 0.001471                 0.000001   \n",
       "2                 0.000265                 0.000167                 0.640135   \n",
       "3                 0.158395                 0.057490                 0.000095   \n",
       "4                 0.000069                 0.000035                 0.061482   \n",
       "\n",
       "   ROLE_CODE_ROLE_TITLE  ROLE_CODE_ROLE_FAMILY_DESC  ROLE_CODE_ROLE_FAMILY  \n",
       "0         -3.937775e-18                1.005237e-01           1.348107e-01  \n",
       "1         -2.994670e-25                4.186593e-08           1.235433e-22  \n",
       "2         -6.182955e-17                6.169509e-07           1.047218e-14  \n",
       "3          1.795161e-01                1.366438e-01           1.795161e-01  \n",
       "4         -6.545127e-24                1.219321e-12          -6.022924e-22  \n",
       "\n",
       "[5 rows x 72 columns]"
      ]
     },
     "execution_count": 17,
     "metadata": {},
     "output_type": "execute_result"
    }
   ],
   "source": [
    "train_svd.head()"
   ]
  },
  {
   "cell_type": "code",
   "execution_count": 18,
   "metadata": {},
   "outputs": [
    {
     "data": {
      "text/html": [
       "<div>\n",
       "<style scoped>\n",
       "    .dataframe tbody tr th:only-of-type {\n",
       "        vertical-align: middle;\n",
       "    }\n",
       "\n",
       "    .dataframe tbody tr th {\n",
       "        vertical-align: top;\n",
       "    }\n",
       "\n",
       "    .dataframe thead th {\n",
       "        text-align: right;\n",
       "    }\n",
       "</style>\n",
       "<table border=\"1\" class=\"dataframe\">\n",
       "  <thead>\n",
       "    <tr style=\"text-align: right;\">\n",
       "      <th></th>\n",
       "      <th>RESOURCE_MGR_ID</th>\n",
       "      <th>RESOURCE_ROLE_ROLLUP_1</th>\n",
       "      <th>RESOURCE_ROLE_ROLLUP_2</th>\n",
       "      <th>RESOURCE_ROLE_DEPTNAME</th>\n",
       "      <th>RESOURCE_ROLE_TITLE</th>\n",
       "      <th>RESOURCE_ROLE_FAMILY_DESC</th>\n",
       "      <th>RESOURCE_ROLE_FAMILY</th>\n",
       "      <th>RESOURCE_ROLE_CODE</th>\n",
       "      <th>MGR_ID_RESOURCE</th>\n",
       "      <th>MGR_ID_ROLE_ROLLUP_1</th>\n",
       "      <th>...</th>\n",
       "      <th>ROLE_FAMILY_ROLE_FAMILY_DESC</th>\n",
       "      <th>ROLE_FAMILY_ROLE_CODE</th>\n",
       "      <th>ROLE_CODE_RESOURCE</th>\n",
       "      <th>ROLE_CODE_MGR_ID</th>\n",
       "      <th>ROLE_CODE_ROLE_ROLLUP_1</th>\n",
       "      <th>ROLE_CODE_ROLE_ROLLUP_2</th>\n",
       "      <th>ROLE_CODE_ROLE_DEPTNAME</th>\n",
       "      <th>ROLE_CODE_ROLE_TITLE</th>\n",
       "      <th>ROLE_CODE_ROLE_FAMILY_DESC</th>\n",
       "      <th>ROLE_CODE_ROLE_FAMILY</th>\n",
       "    </tr>\n",
       "  </thead>\n",
       "  <tbody>\n",
       "    <tr>\n",
       "      <th>0</th>\n",
       "      <td>1.748205e-06</td>\n",
       "      <td>0.000014</td>\n",
       "      <td>0.000033</td>\n",
       "      <td>0.006349</td>\n",
       "      <td>0.000224</td>\n",
       "      <td>9.368598e-06</td>\n",
       "      <td>0.000464</td>\n",
       "      <td>0.000224</td>\n",
       "      <td>0.000001</td>\n",
       "      <td>5.587112e-20</td>\n",
       "      <td>...</td>\n",
       "      <td>2.057914e-05</td>\n",
       "      <td>2.827513e-15</td>\n",
       "      <td>0.009126</td>\n",
       "      <td>3.098385e-08</td>\n",
       "      <td>0.000215</td>\n",
       "      <td>0.000135</td>\n",
       "      <td>5.189408e-01</td>\n",
       "      <td>-5.012361e-17</td>\n",
       "      <td>5.001461e-07</td>\n",
       "      <td>8.489521e-15</td>\n",
       "    </tr>\n",
       "    <tr>\n",
       "      <th>1</th>\n",
       "      <td>4.757212e-07</td>\n",
       "      <td>0.000061</td>\n",
       "      <td>0.000016</td>\n",
       "      <td>0.000002</td>\n",
       "      <td>0.000040</td>\n",
       "      <td>5.865678e-05</td>\n",
       "      <td>0.000061</td>\n",
       "      <td>0.000040</td>\n",
       "      <td>0.000003</td>\n",
       "      <td>1.024593e-03</td>\n",
       "      <td>...</td>\n",
       "      <td>1.792938e-05</td>\n",
       "      <td>-1.951506e-18</td>\n",
       "      <td>0.000030</td>\n",
       "      <td>2.341034e-07</td>\n",
       "      <td>0.002751</td>\n",
       "      <td>0.000949</td>\n",
       "      <td>4.818718e-05</td>\n",
       "      <td>1.195552e-22</td>\n",
       "      <td>1.502169e-09</td>\n",
       "      <td>-3.841866e-20</td>\n",
       "    </tr>\n",
       "    <tr>\n",
       "      <th>2</th>\n",
       "      <td>1.895173e-05</td>\n",
       "      <td>0.000584</td>\n",
       "      <td>0.000352</td>\n",
       "      <td>0.000030</td>\n",
       "      <td>0.000014</td>\n",
       "      <td>8.070228e-07</td>\n",
       "      <td>0.000055</td>\n",
       "      <td>0.000014</td>\n",
       "      <td>0.000193</td>\n",
       "      <td>3.042470e-03</td>\n",
       "      <td>...</td>\n",
       "      <td>9.018517e-10</td>\n",
       "      <td>7.429734e-24</td>\n",
       "      <td>0.000134</td>\n",
       "      <td>3.147750e-07</td>\n",
       "      <td>0.000996</td>\n",
       "      <td>0.000530</td>\n",
       "      <td>4.060167e-07</td>\n",
       "      <td>3.080197e-26</td>\n",
       "      <td>5.827259e-14</td>\n",
       "      <td>7.736424e-26</td>\n",
       "    </tr>\n",
       "    <tr>\n",
       "      <th>3</th>\n",
       "      <td>3.237126e-06</td>\n",
       "      <td>0.000120</td>\n",
       "      <td>0.000032</td>\n",
       "      <td>0.000013</td>\n",
       "      <td>0.000080</td>\n",
       "      <td>1.984018e-05</td>\n",
       "      <td>0.000118</td>\n",
       "      <td>0.000080</td>\n",
       "      <td>0.000123</td>\n",
       "      <td>2.713827e-03</td>\n",
       "      <td>...</td>\n",
       "      <td>7.910264e-08</td>\n",
       "      <td>4.375788e-17</td>\n",
       "      <td>0.000589</td>\n",
       "      <td>3.272294e-04</td>\n",
       "      <td>0.015867</td>\n",
       "      <td>0.004973</td>\n",
       "      <td>5.197746e-06</td>\n",
       "      <td>-4.463996e-17</td>\n",
       "      <td>1.437485e-08</td>\n",
       "      <td>2.057506e-18</td>\n",
       "    </tr>\n",
       "    <tr>\n",
       "      <th>4</th>\n",
       "      <td>3.102218e-04</td>\n",
       "      <td>0.008945</td>\n",
       "      <td>0.004305</td>\n",
       "      <td>0.000712</td>\n",
       "      <td>0.001083</td>\n",
       "      <td>1.242129e-03</td>\n",
       "      <td>0.002395</td>\n",
       "      <td>0.001083</td>\n",
       "      <td>0.000075</td>\n",
       "      <td>1.109102e-03</td>\n",
       "      <td>...</td>\n",
       "      <td>3.883922e-08</td>\n",
       "      <td>2.629853e-20</td>\n",
       "      <td>0.000550</td>\n",
       "      <td>9.799353e-07</td>\n",
       "      <td>0.013715</td>\n",
       "      <td>0.007055</td>\n",
       "      <td>3.575300e-06</td>\n",
       "      <td>2.960215e-16</td>\n",
       "      <td>-1.035834e-17</td>\n",
       "      <td>1.608392e-21</td>\n",
       "    </tr>\n",
       "  </tbody>\n",
       "</table>\n",
       "<p>5 rows × 72 columns</p>\n",
       "</div>"
      ],
      "text/plain": [
       "   RESOURCE_MGR_ID  RESOURCE_ROLE_ROLLUP_1  RESOURCE_ROLE_ROLLUP_2  \\\n",
       "0     1.748205e-06                0.000014                0.000033   \n",
       "1     4.757212e-07                0.000061                0.000016   \n",
       "2     1.895173e-05                0.000584                0.000352   \n",
       "3     3.237126e-06                0.000120                0.000032   \n",
       "4     3.102218e-04                0.008945                0.004305   \n",
       "\n",
       "   RESOURCE_ROLE_DEPTNAME  RESOURCE_ROLE_TITLE  RESOURCE_ROLE_FAMILY_DESC  \\\n",
       "0                0.006349             0.000224               9.368598e-06   \n",
       "1                0.000002             0.000040               5.865678e-05   \n",
       "2                0.000030             0.000014               8.070228e-07   \n",
       "3                0.000013             0.000080               1.984018e-05   \n",
       "4                0.000712             0.001083               1.242129e-03   \n",
       "\n",
       "   RESOURCE_ROLE_FAMILY  RESOURCE_ROLE_CODE  MGR_ID_RESOURCE  \\\n",
       "0              0.000464            0.000224         0.000001   \n",
       "1              0.000061            0.000040         0.000003   \n",
       "2              0.000055            0.000014         0.000193   \n",
       "3              0.000118            0.000080         0.000123   \n",
       "4              0.002395            0.001083         0.000075   \n",
       "\n",
       "   MGR_ID_ROLE_ROLLUP_1  ...  ROLE_FAMILY_ROLE_FAMILY_DESC  \\\n",
       "0          5.587112e-20  ...                  2.057914e-05   \n",
       "1          1.024593e-03  ...                  1.792938e-05   \n",
       "2          3.042470e-03  ...                  9.018517e-10   \n",
       "3          2.713827e-03  ...                  7.910264e-08   \n",
       "4          1.109102e-03  ...                  3.883922e-08   \n",
       "\n",
       "   ROLE_FAMILY_ROLE_CODE  ROLE_CODE_RESOURCE  ROLE_CODE_MGR_ID  \\\n",
       "0           2.827513e-15            0.009126      3.098385e-08   \n",
       "1          -1.951506e-18            0.000030      2.341034e-07   \n",
       "2           7.429734e-24            0.000134      3.147750e-07   \n",
       "3           4.375788e-17            0.000589      3.272294e-04   \n",
       "4           2.629853e-20            0.000550      9.799353e-07   \n",
       "\n",
       "   ROLE_CODE_ROLE_ROLLUP_1  ROLE_CODE_ROLE_ROLLUP_2  ROLE_CODE_ROLE_DEPTNAME  \\\n",
       "0                 0.000215                 0.000135             5.189408e-01   \n",
       "1                 0.002751                 0.000949             4.818718e-05   \n",
       "2                 0.000996                 0.000530             4.060167e-07   \n",
       "3                 0.015867                 0.004973             5.197746e-06   \n",
       "4                 0.013715                 0.007055             3.575300e-06   \n",
       "\n",
       "   ROLE_CODE_ROLE_TITLE  ROLE_CODE_ROLE_FAMILY_DESC  ROLE_CODE_ROLE_FAMILY  \n",
       "0         -5.012361e-17                5.001461e-07           8.489521e-15  \n",
       "1          1.195552e-22                1.502169e-09          -3.841866e-20  \n",
       "2          3.080197e-26                5.827259e-14           7.736424e-26  \n",
       "3         -4.463996e-17                1.437485e-08           2.057506e-18  \n",
       "4          2.960215e-16               -1.035834e-17           1.608392e-21  \n",
       "\n",
       "[5 rows x 72 columns]"
      ]
     },
     "execution_count": 18,
     "metadata": {},
     "output_type": "execute_result"
    }
   ],
   "source": [
    "test_svd.head()"
   ]
  },
  {
   "cell_type": "code",
   "execution_count": null,
   "metadata": {},
   "outputs": [],
   "source": []
  },
  {
   "cell_type": "markdown",
   "metadata": {},
   "source": [
    "**One - hot encoding**\n",
    "\n",
    "\n",
    "A one hot encoding is a representation of categorical variables as binary vectors.\n",
    "\n",
    "This first requires that the categorical values be mapped to integer values.\n",
    "\n",
    "Then, each integer value is represented as a binary vector that is all zero values except the index of the integer, which is marked with a 1."
   ]
  },
  {
   "cell_type": "code",
   "execution_count": 19,
   "metadata": {},
   "outputs": [],
   "source": [
    "# https://scikit-learn.org/stable/modules/generated/sklearn.preprocessing.OneHotEncoder.html"
   ]
  },
  {
   "cell_type": "code",
   "execution_count": 20,
   "metadata": {},
   "outputs": [
    {
     "data": {
      "text/plain": [
       "((32769, 7518), (58921, 7518))"
      ]
     },
     "execution_count": 20,
     "metadata": {},
     "output_type": "execute_result"
    }
   ],
   "source": [
    "# OHE for RESOURCE variable\n",
    "from sklearn.preprocessing import OneHotEncoder\n",
    "ohe=OneHotEncoder(handle_unknown='ignore')\n",
    "ohe.fit(train['RESOURCE'].values.reshape(-1,1))\n",
    "resource_ohe_train = ohe.transform(train['RESOURCE'].values.reshape(-1,1))\n",
    "resurce_ohe_test = ohe.transform(test['RESOURCE'].values.reshape(-1,1))\n",
    "resource_ohe_train.shape,resurce_ohe_test.shape"
   ]
  },
  {
   "cell_type": "code",
   "execution_count": 21,
   "metadata": {},
   "outputs": [
    {
     "data": {
      "text/plain": [
       "((32769, 4243), (58921, 4243))"
      ]
     },
     "execution_count": 21,
     "metadata": {},
     "output_type": "execute_result"
    }
   ],
   "source": [
    "# OHE for MGR_ID variable\n",
    "from sklearn.preprocessing import OneHotEncoder\n",
    "ohe=OneHotEncoder(handle_unknown='ignore')\n",
    "ohe.fit(train['MGR_ID'].values.reshape(-1,1))\n",
    "mgr_id_ohe_train = ohe.transform(train['MGR_ID'].values.reshape(-1,1))\n",
    "mgr_id_ohe_test = ohe.transform(test['MGR_ID'].values.reshape(-1,1))\n",
    "mgr_id_ohe_train.shape,mgr_id_ohe_test.shape"
   ]
  },
  {
   "cell_type": "code",
   "execution_count": 22,
   "metadata": {},
   "outputs": [
    {
     "data": {
      "text/plain": [
       "((32769, 128), (58921, 128))"
      ]
     },
     "execution_count": 22,
     "metadata": {},
     "output_type": "execute_result"
    }
   ],
   "source": [
    "# OHE for ROLE_ROLLUP_1 variable\n",
    "from sklearn.preprocessing import OneHotEncoder\n",
    "ohe=OneHotEncoder(handle_unknown='ignore')\n",
    "ohe.fit(train['ROLE_ROLLUP_1'].values.reshape(-1,1))\n",
    "rollup1_ohe_train=ohe.transform(train['ROLE_ROLLUP_1'].values.reshape(-1,1))\n",
    "rollup1_ohe_test=ohe.transform(test['ROLE_ROLLUP_1'].values.reshape(-1,1))\n",
    "rollup1_ohe_train.shape,rollup1_ohe_test.shape"
   ]
  },
  {
   "cell_type": "code",
   "execution_count": 23,
   "metadata": {},
   "outputs": [
    {
     "data": {
      "text/plain": [
       "((32769, 177), (58921, 177))"
      ]
     },
     "execution_count": 23,
     "metadata": {},
     "output_type": "execute_result"
    }
   ],
   "source": [
    "# OHE for ROLE_ROLLUP_2 variable\n",
    "from sklearn.preprocessing import OneHotEncoder\n",
    "ohe=OneHotEncoder(handle_unknown='ignore')\n",
    "ohe.fit(train['ROLE_ROLLUP_2'].values.reshape(-1,1))\n",
    "rollup2_ohe_train=ohe.transform(train['ROLE_ROLLUP_2'].values.reshape(-1,1))\n",
    "rollup2_ohe_test=ohe.transform(test['ROLE_ROLLUP_2'].values.reshape(-1,1))\n",
    "rollup2_ohe_train.shape,rollup2_ohe_test.shape"
   ]
  },
  {
   "cell_type": "code",
   "execution_count": 24,
   "metadata": {},
   "outputs": [
    {
     "data": {
      "text/plain": [
       "((32769, 449), (58921, 449))"
      ]
     },
     "execution_count": 24,
     "metadata": {},
     "output_type": "execute_result"
    }
   ],
   "source": [
    "# OHE for ROLE_DEPTNAME variable\n",
    "from sklearn.preprocessing import OneHotEncoder\n",
    "ohe=OneHotEncoder(handle_unknown='ignore')\n",
    "ohe.fit(train['ROLE_DEPTNAME'].values.reshape(-1,1))\n",
    "deptname_ohe_train = ohe.transform(train['ROLE_DEPTNAME'].values.reshape(-1,1))\n",
    "deptname_ohe_test = ohe.transform(test['ROLE_DEPTNAME'].values.reshape(-1,1))\n",
    "deptname_ohe_train.shape,deptname_ohe_test.shape"
   ]
  },
  {
   "cell_type": "code",
   "execution_count": 25,
   "metadata": {},
   "outputs": [
    {
     "data": {
      "text/plain": [
       "((32769, 343), (58921, 343))"
      ]
     },
     "execution_count": 25,
     "metadata": {},
     "output_type": "execute_result"
    }
   ],
   "source": [
    "# OHE for ROLE_TITLE variable\n",
    "from sklearn.preprocessing import OneHotEncoder\n",
    "ohe=OneHotEncoder(handle_unknown='ignore')\n",
    "ohe.fit(train['ROLE_TITLE'].values.reshape(-1,1))\n",
    "title_ohe_train = ohe.transform(train['ROLE_TITLE'].values.reshape(-1,1))\n",
    "title_ohe_test = ohe.transform(test['ROLE_TITLE'].values.reshape(-1,1))\n",
    "title_ohe_train.shape,title_ohe_test.shape"
   ]
  },
  {
   "cell_type": "code",
   "execution_count": 26,
   "metadata": {},
   "outputs": [
    {
     "data": {
      "text/plain": [
       "((32769, 2358), (58921, 2358))"
      ]
     },
     "execution_count": 26,
     "metadata": {},
     "output_type": "execute_result"
    }
   ],
   "source": [
    "# OHE for ROLE_FAMILY_DESC variable\n",
    "from sklearn.preprocessing import OneHotEncoder\n",
    "ohe=OneHotEncoder(handle_unknown='ignore')\n",
    "ohe.fit(train['ROLE_FAMILY_DESC'].values.reshape(-1,1))\n",
    "family_desc_ohe_train = ohe.transform(train['ROLE_FAMILY_DESC'].values.reshape(-1,1))\n",
    "family_desc_ohe_test = ohe.transform(test['ROLE_FAMILY_DESC'].values.reshape(-1,1))\n",
    "family_desc_ohe_train.shape,family_desc_ohe_test.shape"
   ]
  },
  {
   "cell_type": "code",
   "execution_count": 27,
   "metadata": {},
   "outputs": [
    {
     "data": {
      "text/plain": [
       "((32769, 67), (58921, 67))"
      ]
     },
     "execution_count": 27,
     "metadata": {},
     "output_type": "execute_result"
    }
   ],
   "source": [
    "# OHE for ROLE_FAMILY variable\n",
    "from sklearn.preprocessing import OneHotEncoder\n",
    "ohe=OneHotEncoder(handle_unknown='ignore')\n",
    "ohe.fit(train['ROLE_FAMILY'].values.reshape(-1,1))\n",
    "family_ohe_train = ohe.transform(train['ROLE_FAMILY'].values.reshape(-1,1))\n",
    "family_ohe_test = ohe.transform(test['ROLE_FAMILY'].values.reshape(-1,1))\n",
    "family_ohe_train.shape,family_ohe_test.shape"
   ]
  },
  {
   "cell_type": "code",
   "execution_count": 28,
   "metadata": {},
   "outputs": [
    {
     "data": {
      "text/plain": [
       "((32769, 343), (58921, 343))"
      ]
     },
     "execution_count": 28,
     "metadata": {},
     "output_type": "execute_result"
    }
   ],
   "source": [
    "# OHE for ROLE_CODE variable\n",
    "from sklearn.preprocessing import OneHotEncoder\n",
    "ohe=OneHotEncoder(handle_unknown='ignore')\n",
    "ohe.fit(train['ROLE_CODE'].values.reshape(-1,1))\n",
    "code_ohe_train = ohe.transform(train['ROLE_CODE'].values.reshape(-1,1))\n",
    "code_ohe_test = ohe.transform(test['ROLE_CODE'].values.reshape(-1,1))\n",
    "code_ohe_train.shape,code_ohe_test.shape"
   ]
  },
  {
   "cell_type": "code",
   "execution_count": 29,
   "metadata": {},
   "outputs": [
    {
     "name": "stdout",
     "output_type": "stream",
     "text": [
      "(32769, 15626) (58921, 15626) (32769,)\n"
     ]
    }
   ],
   "source": [
    "from scipy.sparse import hstack\n",
    "ohe_train = hstack((resource_ohe_train,mgr_id_ohe_train,rollup1_ohe_train,rollup2_ohe_train,deptname_ohe_train,\n",
    "                    title_ohe_train,family_desc_ohe_train,family_ohe_train,code_ohe_train))\n",
    "ohe_train_y = train['ACTION'].values\n",
    "ohe_test = hstack((resurce_ohe_test,mgr_id_ohe_test,rollup1_ohe_test,rollup2_ohe_test,deptname_ohe_test,\n",
    "                    title_ohe_test,family_desc_ohe_test,family_ohe_test,code_ohe_test))\n",
    "\n",
    "print(ohe_train.shape,ohe_test.shape,ohe_train_y.shape)"
   ]
  },
  {
   "cell_type": "markdown",
   "metadata": {},
   "source": [
    "**Frequency encoding**\n",
    "\n",
    "It is a way to utilize the frequency of the categories as labels.\n",
    "\n",
    "In the cases where the frequency is related somewhat with the target variable, it helps the model to understand and assign the weight in direct and inverse proportion, depending on the nature of the data."
   ]
  },
  {
   "cell_type": "code",
   "execution_count": 30,
   "metadata": {},
   "outputs": [],
   "source": [
    "#https://www.datacamp.com/community/tutorials/encoding-methodologies"
   ]
  },
  {
   "cell_type": "code",
   "execution_count": 31,
   "metadata": {},
   "outputs": [],
   "source": [
    "# https://pandas.pydata.org/pandas-docs/stable/reference/api/pandas.Series.map.html"
   ]
  },
  {
   "cell_type": "code",
   "execution_count": 32,
   "metadata": {},
   "outputs": [
    {
     "name": "stdout",
     "output_type": "stream",
     "text": [
      "(32769,) (58921,) 0 0\n",
      "(32769,) (58921,) 0 0\n"
     ]
    }
   ],
   "source": [
    "# Frequency coding for MGR_ID\n",
    "values=train['RESOURCE'].value_counts() /len(train)\n",
    "resource_fc_train = train['RESOURCE'].map(values)\n",
    "resource_fc_test = test['RESOURCE'].map(values)\n",
    "print(resource_fc_train.shape,resource_fc_test.shape,resource_fc_train.isna().sum(),resource_fc_test.isna().sum())\n",
    "mgr_id_fc_test = resource_fc_test.fillna(0)\n",
    "print(resource_fc_train.shape,resource_fc_test.shape,resource_fc_train.isna().sum(),resource_fc_test.isna().sum())"
   ]
  },
  {
   "cell_type": "code",
   "execution_count": 33,
   "metadata": {},
   "outputs": [
    {
     "name": "stdout",
     "output_type": "stream",
     "text": [
      "(32769,) (58921,) 0 1627\n",
      "(32769,) (58921,) 0 0\n"
     ]
    }
   ],
   "source": [
    "# Frequency coding for MGR_ID\n",
    "values=train['MGR_ID'].value_counts() /len(train)\n",
    "mgr_id_fc_train = train['MGR_ID'].map(values)\n",
    "mgr_id_fc_test = test['MGR_ID'].map(values)\n",
    "print(mgr_id_fc_train.shape,mgr_id_fc_test.shape,mgr_id_fc_train.isna().sum(),mgr_id_fc_test.isna().sum())\n",
    "mgr_id_fc_test = mgr_id_fc_test.fillna(0)\n",
    "print(mgr_id_fc_train.shape,mgr_id_fc_test.shape,mgr_id_fc_train.isna().sum(),mgr_id_fc_test.isna().sum())"
   ]
  },
  {
   "cell_type": "code",
   "execution_count": 34,
   "metadata": {},
   "outputs": [
    {
     "name": "stdout",
     "output_type": "stream",
     "text": [
      "(32769,) (58921,) 0 4\n",
      "(32769,) (58921,) 0 0\n"
     ]
    }
   ],
   "source": [
    "# ROLE_ROLLUP_1 variable\n",
    "values=train['ROLE_ROLLUP_1'].value_counts() /len(train)\n",
    "rollup1_fc_train = train['ROLE_ROLLUP_1'].map(values)\n",
    "rollup1_fc_test = test['ROLE_ROLLUP_1'].map(values)\n",
    "print(rollup1_fc_train.shape,rollup1_fc_test.shape,rollup1_fc_train.isna().sum(),rollup1_fc_test.isna().sum())\n",
    "rollup1_fc_test = rollup1_fc_test.fillna(0)\n",
    "print(rollup1_fc_train.shape,rollup1_fc_test.shape,rollup1_fc_train.isna().sum(),rollup1_fc_test.isna().sum())"
   ]
  },
  {
   "cell_type": "code",
   "execution_count": 35,
   "metadata": {},
   "outputs": [
    {
     "name": "stdout",
     "output_type": "stream",
     "text": [
      "(32769,) (58921,) 0 12\n",
      "(32769,) (58921,) 0 0\n"
     ]
    }
   ],
   "source": [
    "# ROLE_ROLLUP_2 variable\n",
    "values=train['ROLE_ROLLUP_2'].value_counts() /len(train)\n",
    "rollup2_fc_train = train['ROLE_ROLLUP_2'].map(values)\n",
    "rollup2_fc_test = test['ROLE_ROLLUP_2'].map(values)\n",
    "print(rollup2_fc_train.shape,rollup2_fc_test.shape,rollup2_fc_train.isna().sum(),rollup2_fc_test.isna().sum())\n",
    "rollup2_fc_test = rollup2_fc_test.fillna(0)\n",
    "print(rollup2_fc_train.shape,rollup2_fc_test.shape,rollup2_fc_train.isna().sum(),rollup2_fc_test.isna().sum())"
   ]
  },
  {
   "cell_type": "code",
   "execution_count": 36,
   "metadata": {},
   "outputs": [
    {
     "name": "stdout",
     "output_type": "stream",
     "text": [
      "(32769,) (58921,) 0 62\n",
      "(32769,) (58921,) 0 0\n"
     ]
    }
   ],
   "source": [
    "# Frequency coding for ROLE_DEPTNAME variable\n",
    "values=train['ROLE_DEPTNAME'].value_counts()/len(train)\n",
    "deptname_fc_train = train['ROLE_DEPTNAME'].map(values)\n",
    "deptname_fc_test = test['ROLE_DEPTNAME'].map(values)\n",
    "print(deptname_fc_train.shape,deptname_fc_test.shape,deptname_fc_train.isna().sum(),deptname_fc_test.isna().sum())\n",
    "deptname_fc_test = deptname_fc_test.fillna(0)\n",
    "print(deptname_fc_train.shape,deptname_fc_test.shape,deptname_fc_train.isna().sum(),deptname_fc_test.isna().sum())"
   ]
  },
  {
   "cell_type": "code",
   "execution_count": 37,
   "metadata": {},
   "outputs": [
    {
     "name": "stdout",
     "output_type": "stream",
     "text": [
      "(32769,) (58921,) 0 30\n",
      "(32769,) (58921,) 0 0\n"
     ]
    }
   ],
   "source": [
    "# Frequency coding for ROLE_TITLE\n",
    "values=train['ROLE_TITLE'].value_counts()/len(train)\n",
    "title_fc_train = train['ROLE_TITLE'].map(values)\n",
    "title_fc_test = test['ROLE_TITLE'].map(values)\n",
    "print(title_fc_train.shape,title_fc_test.shape,title_fc_train.isna().sum(),title_fc_test.isna().sum())\n",
    "title_fc_test = title_fc_test.fillna(0)\n",
    "print(title_fc_train.shape,title_fc_test.shape,title_fc_train.isna().sum(),title_fc_test.isna().sum())"
   ]
  },
  {
   "cell_type": "code",
   "execution_count": 38,
   "metadata": {},
   "outputs": [
    {
     "name": "stdout",
     "output_type": "stream",
     "text": [
      "(32769,) (58921,) 0 1249\n",
      "(32769,) (58921,) 0 0\n"
     ]
    }
   ],
   "source": [
    "# Freq coding for ROLE_FAMILY_DESC\n",
    "values=train['ROLE_FAMILY_DESC'].value_counts()/len(train)\n",
    "family_desc_fc_train = train['ROLE_FAMILY_DESC'].map(values)\n",
    "family_desc_fc_test = test['ROLE_FAMILY_DESC'].map(values)\n",
    "print(family_desc_fc_train.shape,family_desc_fc_test.shape,family_desc_fc_train.isna().sum(),family_desc_fc_test.isna().sum())\n",
    "family_desc_fc_test = family_desc_fc_test.fillna(0)\n",
    "print(family_desc_fc_train.shape,family_desc_fc_test.shape,family_desc_fc_train.isna().sum(),family_desc_fc_test.isna().sum())"
   ]
  },
  {
   "cell_type": "code",
   "execution_count": 39,
   "metadata": {},
   "outputs": [
    {
     "name": "stdout",
     "output_type": "stream",
     "text": [
      "(32769,) (58921,) 0 1\n",
      "(32769,) (58921,) 0 0\n"
     ]
    }
   ],
   "source": [
    "# Freq coding for ROLE_FAMILY\n",
    "values=train['ROLE_FAMILY'].value_counts()/len(train)\n",
    "family_fc_train = train['ROLE_FAMILY'].map(values)\n",
    "family_fc_test = test['ROLE_FAMILY'].map(values)\n",
    "print(family_fc_train.shape,family_fc_test.shape,family_fc_train.isna().sum(),family_fc_test.isna().sum())\n",
    "family_fc_test = family_fc_test.fillna(0)\n",
    "print(family_fc_train.shape,family_fc_test.shape,family_fc_train.isna().sum(),family_fc_test.isna().sum())"
   ]
  },
  {
   "cell_type": "code",
   "execution_count": 40,
   "metadata": {},
   "outputs": [
    {
     "name": "stdout",
     "output_type": "stream",
     "text": [
      "(32769,) (58921,) 0 30\n",
      "(32769,) (58921,) 0 0\n"
     ]
    }
   ],
   "source": [
    "# Freq coding for ROLE_CODE\n",
    "values=train['ROLE_CODE'].value_counts()/len(train)\n",
    "code_fc_train = train['ROLE_CODE'].map(values)\n",
    "code_fc_test = test['ROLE_CODE'].map(values)\n",
    "print(code_fc_train.shape,code_fc_test.shape,code_fc_train.isna().sum(),code_fc_test.isna().sum())\n",
    "code_fc_test = code_fc_test.fillna(0)\n",
    "print(code_fc_train.shape,code_fc_test.shape,code_fc_train.isna().sum(),code_fc_test.isna().sum())"
   ]
  },
  {
   "cell_type": "code",
   "execution_count": 41,
   "metadata": {},
   "outputs": [],
   "source": [
    "fc_df_train = pd.DataFrame ({'resource_fc_train':resource_fc_train,'mgr_id_fc_train':mgr_id_fc_train,'rollup1_fc_train':rollup1_fc_train,'rollup2_fc_train':rollup2_fc_train,\n",
    "                        'deptname_fc_train':deptname_fc_train,'title_fc_train':title_fc_train,\n",
    "                        'family_desc_fc_train':family_desc_fc_train,\n",
    "                        'family_fc_train':family_fc_train,'code_fc_train':code_fc_train})\n",
    "\n",
    "fc_df_test = pd.DataFrame ({'resource_fc_test':resource_fc_test,'mgr_id_fc_test':mgr_id_fc_test,'rollup1_fc_test':rollup1_fc_test,'rollup2_fc_test':rollup2_fc_test,\n",
    "                        'deptname_fc_test':deptname_fc_test,'title_fc_test':title_fc_test,\n",
    "                        'family_desc_fc_test':family_desc_fc_test,\n",
    "                        'family_fc_test':family_fc_test,'code_fc_test':code_fc_test})\n",
    "\n",
    "fc_y_train = train['ACTION'].values"
   ]
  },
  {
   "cell_type": "code",
   "execution_count": 42,
   "metadata": {},
   "outputs": [
    {
     "data": {
      "text/plain": [
       "((32769, 9), (32769,), (58921, 9))"
      ]
     },
     "execution_count": 42,
     "metadata": {},
     "output_type": "execute_result"
    }
   ],
   "source": [
    "fc_df_train.shape,fc_y_train.shape,fc_df_test.shape"
   ]
  },
  {
   "cell_type": "markdown",
   "metadata": {},
   "source": [
    "**Response Coding / Target Encoding**\n",
    "\n",
    "It is a technique to represent the categorical data while solving a machine learning classification problem. \n",
    "\n",
    "As part of this technique, we represent the probability of the data point belonging to a particular class given a category."
   ]
  },
  {
   "cell_type": "code",
   "execution_count": 43,
   "metadata": {},
   "outputs": [
    {
     "name": "stdout",
     "output_type": "stream",
     "text": [
      "(32769,) (58921,) 0 0\n",
      "(32769,) (58921,) 0 0\n"
     ]
    }
   ],
   "source": [
    "#RESOURCE\n",
    "values= train.groupby('RESOURCE')['ACTION'].mean()\n",
    "rc_resource_train = train['RESOURCE'].map(values)\n",
    "rc_resource_test = test['RESOURCE'].map(values)\n",
    "print(rc_resource_train.shape,rc_resource_test.shape,rc_resource_train.isna().sum(),rc_resource_test.isna().sum())\n",
    "rc_resource_test = rc_resource_test.fillna(0.5)\n",
    "print(rc_resource_train.shape,rc_resource_test.shape,rc_resource_train.isna().sum(),rc_resource_test.isna().sum())"
   ]
  },
  {
   "cell_type": "code",
   "execution_count": 44,
   "metadata": {},
   "outputs": [
    {
     "name": "stdout",
     "output_type": "stream",
     "text": [
      "(32769,) (58921,) 0 1627\n",
      "(32769,) (58921,) 0 0\n"
     ]
    }
   ],
   "source": [
    "#MGR_ID\n",
    "values= train.groupby('MGR_ID')['ACTION'].mean()\n",
    "rc_mgrid_train = train['MGR_ID'].map(values)\n",
    "rc_mgrid_test = test['MGR_ID'].map(values)\n",
    "print(rc_mgrid_train.shape,rc_mgrid_test.shape,rc_mgrid_train.isna().sum(),rc_mgrid_test.isna().sum())\n",
    "rc_mgrid_test = rc_mgrid_test.fillna(0.5)\n",
    "print(rc_mgrid_train.shape,rc_mgrid_test.shape,rc_mgrid_train.isna().sum(),rc_mgrid_test.isna().sum())"
   ]
  },
  {
   "cell_type": "code",
   "execution_count": 45,
   "metadata": {},
   "outputs": [
    {
     "name": "stdout",
     "output_type": "stream",
     "text": [
      "(32769,) (58921,) 0 4\n",
      "(32769,) (58921,) 0 0\n"
     ]
    }
   ],
   "source": [
    "# ROLE_ROLLUP_1\n",
    "values= train.groupby('ROLE_ROLLUP_1')['ACTION'].mean()\n",
    "rc_rollup1_train = train['ROLE_ROLLUP_1'].map(values)\n",
    "rc_rollup1_test = test['ROLE_ROLLUP_1'].map(values)\n",
    "print(rc_rollup1_train.shape,rc_rollup1_test.shape,rc_rollup1_train.isna().sum(),rc_rollup1_test.isna().sum())\n",
    "rc_rollup1_test = rc_rollup1_test.fillna(0.5)\n",
    "print(rc_rollup1_train.shape,rc_rollup1_test.shape,rc_rollup1_train.isna().sum(),rc_rollup1_test.isna().sum())"
   ]
  },
  {
   "cell_type": "code",
   "execution_count": 46,
   "metadata": {},
   "outputs": [
    {
     "name": "stdout",
     "output_type": "stream",
     "text": [
      "(32769,) (58921,) 0 12\n",
      "(32769,) (58921,) 0 0\n"
     ]
    }
   ],
   "source": [
    "# ROLE_ROLLUP_2\n",
    "values= train.groupby('ROLE_ROLLUP_2')['ACTION'].mean()\n",
    "rc_rollup2_train = train['ROLE_ROLLUP_2'].map(values)\n",
    "rc_rollup2_test = test['ROLE_ROLLUP_2'].map(values)\n",
    "print(rc_rollup2_train.shape,rc_rollup2_test.shape,rc_rollup2_train.isna().sum(),rc_rollup2_test.isna().sum())\n",
    "rc_rollup2_test = rc_rollup2_test.fillna(0.5)\n",
    "print(rc_rollup2_train.shape,rc_rollup2_test.shape,rc_rollup2_train.isna().sum(),rc_rollup2_test.isna().sum())"
   ]
  },
  {
   "cell_type": "code",
   "execution_count": 47,
   "metadata": {},
   "outputs": [
    {
     "name": "stdout",
     "output_type": "stream",
     "text": [
      "(32769,) (58921,) 0 62\n",
      "(32769,) (58921,) 0 0\n"
     ]
    }
   ],
   "source": [
    "# ROLE_DEPTNAME\n",
    "values= train.groupby('ROLE_DEPTNAME')['ACTION'].mean()\n",
    "rc_deptname_train = train['ROLE_DEPTNAME'].map(values)\n",
    "rc_deptname_test = test['ROLE_DEPTNAME'].map(values)\n",
    "print(rc_deptname_train.shape,rc_deptname_test.shape,rc_deptname_train.isna().sum(),rc_deptname_test.isna().sum())\n",
    "rc_deptname_test = rc_deptname_test.fillna(0.5)\n",
    "print(rc_deptname_train.shape,rc_deptname_test.shape,rc_deptname_train.isna().sum(),rc_deptname_test.isna().sum())"
   ]
  },
  {
   "cell_type": "code",
   "execution_count": 48,
   "metadata": {},
   "outputs": [
    {
     "name": "stdout",
     "output_type": "stream",
     "text": [
      "(32769,) (58921,) 0 30\n",
      "(32769,) (58921,) 0 0\n"
     ]
    }
   ],
   "source": [
    "# ROLE_TITLE\n",
    "values= train.groupby('ROLE_TITLE')['ACTION'].mean()\n",
    "rc_title_train = train['ROLE_TITLE'].map(values)\n",
    "rc_title_test = test['ROLE_TITLE'].map(values)\n",
    "print(rc_title_train.shape,rc_title_test.shape,rc_title_train.isna().sum(),rc_title_test.isna().sum())\n",
    "rc_title_test = rc_title_test.fillna(0.5)\n",
    "print(rc_title_train.shape,rc_title_test.shape,rc_title_train.isna().sum(),rc_title_test.isna().sum())"
   ]
  },
  {
   "cell_type": "code",
   "execution_count": 49,
   "metadata": {},
   "outputs": [
    {
     "name": "stdout",
     "output_type": "stream",
     "text": [
      "(32769,) (58921,) 0 1249\n",
      "(32769,) (58921,) 0 0\n"
     ]
    }
   ],
   "source": [
    "# ROLE_FAMILY_DESC\n",
    "values= train.groupby('ROLE_FAMILY_DESC')['ACTION'].mean()\n",
    "rc_family_desc_train = train['ROLE_FAMILY_DESC'].map(values)\n",
    "rc_family_desc_test = test['ROLE_FAMILY_DESC'].map(values)\n",
    "print(rc_family_desc_train.shape,rc_family_desc_test.shape,rc_family_desc_train.isna().sum(),rc_family_desc_test.isna().sum())\n",
    "rc_family_desc_test = rc_family_desc_test.fillna(0.5)\n",
    "print(rc_family_desc_train.shape,rc_family_desc_test.shape,rc_family_desc_train.isna().sum(),rc_family_desc_test.isna().sum())"
   ]
  },
  {
   "cell_type": "code",
   "execution_count": 50,
   "metadata": {},
   "outputs": [
    {
     "name": "stdout",
     "output_type": "stream",
     "text": [
      "(32769,) (58921,) 0 1\n",
      "(32769,) (58921,) 0 0\n"
     ]
    }
   ],
   "source": [
    "# ROLE_FAMILY\n",
    "values= train.groupby('ROLE_FAMILY')['ACTION'].mean()\n",
    "rc_family_train = train['ROLE_FAMILY'].map(values)\n",
    "rc_family_test = test['ROLE_FAMILY'].map(values)\n",
    "print(rc_family_train.shape,rc_family_test.shape,rc_family_train.isna().sum(),rc_family_test.isna().sum())\n",
    "rc_family_test = rc_family_test.fillna(0.5)\n",
    "print(rc_family_train.shape,rc_family_test.shape,rc_family_train.isna().sum(),rc_family_test.isna().sum())"
   ]
  },
  {
   "cell_type": "code",
   "execution_count": 51,
   "metadata": {},
   "outputs": [
    {
     "name": "stdout",
     "output_type": "stream",
     "text": [
      "(32769,) (58921,) 0 30\n",
      "(32769,) (58921,) 0 0\n"
     ]
    }
   ],
   "source": [
    "# ROLE_CODE\n",
    "values= train.groupby('ROLE_CODE')['ACTION'].mean()\n",
    "rc_code_train = train['ROLE_CODE'].map(values)\n",
    "rc_code_test = test['ROLE_CODE'].map(values)\n",
    "print(rc_code_train.shape,rc_code_test.shape,rc_code_train.isna().sum(),rc_code_test.isna().sum())\n",
    "rc_code_test = rc_code_test.fillna(0.5)\n",
    "print(rc_code_train.shape,rc_code_test.shape,rc_code_train.isna().sum(),rc_code_test.isna().sum())"
   ]
  },
  {
   "cell_type": "code",
   "execution_count": 52,
   "metadata": {},
   "outputs": [],
   "source": [
    "rc_df_train = pd.DataFrame ({'rc_resource_train':rc_resource_train,'mgr_id_rc_train':rc_mgrid_train,'rollup1_rc_train':rc_rollup1_train,'rollup2_rc_train':rc_rollup1_train,\n",
    "                        'deptname_rc_train':rc_deptname_train,'title_rc_train':rc_title_train,\n",
    "                        'family_desc_rc_train':rc_family_desc_train,\n",
    "                        'family_rc_train':rc_family_train,'code_rc_train':rc_code_train})\n",
    "rc_df_test = pd.DataFrame ({'rc_resource_test':rc_resource_test,'mgr_id_rc_test':rc_mgrid_test,'rollup1_rc_test':rc_rollup1_test,'rollup2_rc_test':rc_rollup1_test,\n",
    "                        'deptname_rc_test':rc_deptname_test,'title_rc_test':rc_title_test,\n",
    "                        'family_desc_rc_test':rc_family_desc_test,\n",
    "                        'family_rc_test':rc_family_test,'code_rc_test':rc_code_test})\n",
    "\n",
    "rc_y_train = train['ACTION'].values"
   ]
  },
  {
   "cell_type": "code",
   "execution_count": 53,
   "metadata": {},
   "outputs": [
    {
     "data": {
      "text/plain": [
       "((32769, 9), (32769,), (58921, 9))"
      ]
     },
     "execution_count": 53,
     "metadata": {},
     "output_type": "execute_result"
    }
   ],
   "source": [
    "rc_df_train.shape,rc_y_train.shape,rc_df_test.shape"
   ]
  },
  {
   "cell_type": "markdown",
   "metadata": {},
   "source": [
    "After performing **One Hot Encoding** on the given data,we could see that the transformed data has 15626 features / its a 15626 dimensional data. As the dimennsions are very large, it might take very long time to train the model and it may also lead to the problem of curse of dimensionality. So to solve this , we need to select the important features that might be useful so that we can reduce the dimensionality of data."
   ]
  },
  {
   "cell_type": "code",
   "execution_count": 54,
   "metadata": {},
   "outputs": [],
   "source": [
    "# https://chrisalbon.com/machine_learning/model_selection/hyperparameter_tuning_using_random_search/"
   ]
  },
  {
   "cell_type": "markdown",
   "metadata": {},
   "source": [
    "**Feature Selection**"
   ]
  },
  {
   "cell_type": "code",
   "execution_count": 55,
   "metadata": {},
   "outputs": [],
   "source": [
    "from sklearn.feature_selection import SelectKBest,chi2\n",
    "ktop = SelectKBest(chi2,k=4500).fit(ohe_train,ohe_train_y)\n",
    "ohe_train=ktop.transform(ohe_train)\n",
    "ohe_test=ktop.transform(ohe_test)"
   ]
  },
  {
   "cell_type": "code",
   "execution_count": 56,
   "metadata": {},
   "outputs": [
    {
     "data": {
      "text/plain": [
       "((32769, 4500), (58921, 4500))"
      ]
     },
     "execution_count": 56,
     "metadata": {},
     "output_type": "execute_result"
    }
   ],
   "source": [
    "ohe_train.shape,ohe_test.shape"
   ]
  },
  {
   "cell_type": "markdown",
   "metadata": {},
   "source": [
    "**Saving all the data into a CSV file**"
   ]
  },
  {
   "cell_type": "code",
   "execution_count": 57,
   "metadata": {},
   "outputs": [],
   "source": [
    "# saving all to dataframe\n",
    "rc_df_train.to_csv('data/rc_df_train.csv',index=False)\n",
    "rc_df_test.to_csv('data/rc_df_test.csv',index=False)\n",
    "fc_df_train.to_csv('data/fc_df_train.csv',index=False)\n",
    "fc_df_test.to_csv('data/fc_df_test.csv',index=False)\n",
    "train_svd.to_csv('data/train_svd.csv',index=False)\n",
    "test_svd.to_csv('data/test_svd.csv',index=False)"
   ]
  },
  {
   "cell_type": "code",
   "execution_count": 58,
   "metadata": {},
   "outputs": [],
   "source": [
    "#https://stackoverflow.com/questions/8955448/save-load-scipy-sparse-csr-matrix-in-portable-data-format"
   ]
  },
  {
   "cell_type": "code",
   "execution_count": 59,
   "metadata": {},
   "outputs": [],
   "source": [
    "from scipy import sparse\n",
    "sparse.save_npz('data/ohe_train.npz',ohe_train)\n",
    "sparse.save_npz('data/ohe_test.npz',ohe_test)"
   ]
  }
 ],
 "metadata": {
  "kernelspec": {
   "display_name": "Python 3",
   "language": "python",
   "name": "python3"
  },
  "language_info": {
   "codemirror_mode": {
    "name": "ipython",
    "version": 3
   },
   "file_extension": ".py",
   "mimetype": "text/x-python",
   "name": "python",
   "nbconvert_exporter": "python",
   "pygments_lexer": "ipython3",
   "version": "3.6.5"
  }
 },
 "nbformat": 4,
 "nbformat_minor": 4
}
